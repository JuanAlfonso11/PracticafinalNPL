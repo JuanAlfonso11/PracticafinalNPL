{
 "cells": [
  {
   "cell_type": "markdown",
   "id": "80811e2d",
   "metadata": {},
   "source": [
    "<div style=\"background:#FFFFE0;padding:20px;color:#000000;margin-top:10px;\">\n",
    "Imports necesarios para la ejecución de los módulos instalados con pip:\n",
    "\n",
    "• pandas → import pandas as pd  \n",
    "• numpy → import numpy as np  \n",
    "• matplotlib → import matplotlib.pyplot as plt  \n",
    "• seaborn → import seaborn as sns  \n",
    "• scikit-learn → from sklearn.model_selection import train_test_split  \n",
    "                    from sklearn.metrics import classification_report, confusion_matrix  \n",
    "• torch → import torch  \n",
    "• transformers → from transformers import BertTokenizer, BertForSequenceClassification, Trainer, TrainingArguments, DataCollatorWithPadding  \n",
    "• datasets → from datasets import Dataset  \n",
    "</div>\n"
   ]
  },
  {
   "cell_type": "code",
   "execution_count": 12,
   "id": "8b657d65",
   "metadata": {},
   "outputs": [],
   "source": [
    "#pip install transformers datasets scikit-learn pandas matplotlib seaborn torch\n",
    "#!pip install \"transformers[torch]\" --upgrade\n"
   ]
  },
  {
   "cell_type": "code",
   "execution_count": 111,
   "id": "ee116fce",
   "metadata": {},
   "outputs": [],
   "source": [
    "#!pip install \"transformers[torch]\" --upgrade\n",
    "#!pip install --upgrade transformers\n"
   ]
  },
  {
   "cell_type": "code",
   "execution_count": 14,
   "id": "8a3e1816",
   "metadata": {},
   "outputs": [],
   "source": [
    "#!pip install --upgrade transformers accelerate\n"
   ]
  },
  {
   "cell_type": "code",
   "execution_count": 20,
   "id": "08b1d54c",
   "metadata": {},
   "outputs": [],
   "source": [
    "#!pip install evaluate\n"
   ]
  },
  {
   "cell_type": "markdown",
   "id": "692cb8fa",
   "metadata": {},
   "source": [
    "<div style=\"background:#FFFFE0;padding:20px;color:#000000;margin-top:10px;\">\n",
    "Este bloque de código verifica si PyTorch puede usar la GPU (usualmente con CUDA) y cuál GPU está disponible. Es útil para asegurarse de que el entrenamiento del modelo se pueda hacer con aceleración por hardware, lo que reduce significativamente el tiempo.</div>\n"
   ]
  },
  {
   "cell_type": "code",
   "execution_count": 15,
   "id": "b851e5bf",
   "metadata": {},
   "outputs": [
    {
     "name": "stdout",
     "output_type": "stream",
     "text": [
      "CUDA disponible: True\n",
      "GPU: NVIDIA GeForce RTX 3050 Ti Laptop GPU\n"
     ]
    }
   ],
   "source": [
    "import torch\n",
    "\n",
    "print(\"CUDA disponible:\", torch.cuda.is_available())\n",
    "if torch.cuda.is_available():\n",
    "    print(\"GPU:\", torch.cuda.get_device_name(0))"
   ]
  },
  {
   "cell_type": "markdown",
   "id": "bdec902a",
   "metadata": {},
   "source": [
    "# Clasificacion automatica de poemas segun su forma poetica(usando la carpeta forms)"
   ]
  },
  {
   "cell_type": "code",
   "execution_count": 9,
   "id": "41fd639c",
   "metadata": {},
   "outputs": [],
   "source": [
    "import os\n",
    "import pandas as pd\n",
    "import numpy as np\n",
    "import matplotlib.pyplot as plt\n",
    "import seaborn as sns\n",
    "\n",
    "from sklearn.model_selection import train_test_split\n",
    "from sklearn.metrics import classification_report, confusion_matrix\n",
    "\n",
    "from transformers import BertTokenizer, BertForSequenceClassification, Trainer, TrainingArguments\n",
    "from transformers import DataCollatorWithPadding\n",
    "from datasets import Dataset\n",
    "import torch"
   ]
  },
  {
   "cell_type": "code",
   "execution_count": 6,
   "id": "373ddf2b",
   "metadata": {},
   "outputs": [
    {
     "name": "stdout",
     "output_type": "stream",
     "text": [
      "                                                text label\n",
      "0  2 ABC of H.k. and China revised vision.\\nBarre...   abc\n",
      "1  Apparently life without love, is no life at al...   abc\n",
      "2  A abc angles on angels flaws (poem)\\nMix with ...   abc\n",
      "3  A abc Brazil dance (poem)\\nJack of crack in po...   abc\n",
      "4  ABC... I can't go on\\n123... what's the next o...   abc\n",
      "label\n",
      "acrostic                       100\n",
      "allegory                       100\n",
      "free-verse                     100\n",
      "cinquain                       100\n",
      "cavatina                       100\n",
      "ballad                         100\n",
      "ballade                        100\n",
      "tetractys                      100\n",
      "triolet                        100\n",
      "villanelle                     100\n",
      "stanza                         100\n",
      "syllabic-verse                 100\n",
      "epigram                        100\n",
      "dirge                          100\n",
      "clerihew                       100\n",
      "epitaph                        100\n",
      "elegy                          100\n",
      "epistle                        100\n",
      "verse                          100\n",
      "monoku                         100\n",
      "lament                         100\n",
      "italian-sonnet                 100\n",
      "hymn                           100\n",
      "tanka                          100\n",
      "couplet                         99\n",
      "sestina                         99\n",
      "doggerel                        99\n",
      "abc                             99\n",
      "epic                            99\n",
      "riddle                          99\n",
      "lyric                           99\n",
      "carol                           99\n",
      "haiku                           99\n",
      "ghazal                          99\n",
      "pastoral                        98\n",
      "limerick                        98\n",
      "quatrain                        98\n",
      "ode                             97\n",
      "imagery                         96\n",
      "pantoum                         96\n",
      "rondeau                         90\n",
      "dactyl                          83\n",
      "sonnet                          79\n",
      "aubade                          77\n",
      "prose-poem                      77\n",
      "bio                             76\n",
      "narrative                       70\n",
      "madrigal                        68\n",
      "tercet                          66\n",
      "octave                          64\n",
      "rictameter                      63\n",
      "found-poem                      61\n",
      "slam                            59\n",
      "tyburn                          59\n",
      "ars-poetica                     57\n",
      "heroic-couplet                  55\n",
      "kyrielle                        54\n",
      "chain-verse                     52\n",
      "eclogue                         51\n",
      "sijo                            49\n",
      "conceit                         49\n",
      "cacophony                       48\n",
      "cascade                         44\n",
      "quatern                         36\n",
      "anaphora                        30\n",
      "lay                             29\n",
      "anacreontic                     29\n",
      "blank-verse                     29\n",
      "sestet                          28\n",
      "anagram                         26\n",
      "nonet                           26\n",
      "shi                             25\n",
      "light-verse                     25\n",
      "renga                           25\n",
      "bop                             24\n",
      "shadorma                        24\n",
      "ekphrastic                      22\n",
      "terza-rima                      22\n",
      "abecedarian                     20\n",
      "iambic-pentameter               20\n",
      "burlesque                       19\n",
      "canzone                         19\n",
      "choka                           18\n",
      "rhyme-royal-or-rime-royale      18\n",
      "catena-rondo                    18\n",
      "blues-poem                      17\n",
      "bucolic                         17\n",
      "dizain                          17\n",
      "rispetto                        15\n",
      "dramatic-monologue              15\n",
      "ottava-rima                     15\n",
      "balassi-stanza                  14\n",
      "sapphic                         13\n",
      "palinode                        12\n",
      "cento                           12\n",
      "chance-operations               12\n",
      "alexandrine                     11\n",
      "double-dactyl                   11\n",
      "epithalamion                    10\n",
      "senryu                          10\n",
      "panegyric                       10\n",
      "verse-paragraph                  9\n",
      "kennings                         9\n",
      "somonka                          9\n",
      "palindrome-or-mirror-poetry      9\n",
      "refrain                          9\n",
      "landays                          8\n",
      "horatian-ode                     7\n",
      "arabian-sonnet                   6\n",
      "bref-double                      6\n",
      "curtal-sonnet                    6\n",
      "glosa                            5\n",
      "burns-stanza                     5\n",
      "spenserian-stanza                5\n",
      "canzonetta                       4\n",
      "decastich                        4\n",
      "echo-verse                       4\n",
      "beymorlin-sonnet                 4\n",
      "brisbane-sonnet                  4\n",
      "oulipo                           4\n",
      "qasida                           4\n",
      "rondel-or-roundel                4\n",
      "didactic-poetry                  3\n",
      "collins-sestet                   3\n",
      "carpe-diems                      3\n",
      "blues-sonnet                     2\n",
      "busta-sonetto                    2\n",
      "fourteener                       2\n",
      "epistrophe                       2\n",
      "divino-sonetto                   2\n",
      "occasional-poem                  2\n",
      "pindaric-ode                     2\n",
      "mock-epic                        1\n",
      "irregular-ode                    1\n",
      "triversen                        1\n"
     ]
    }
   ],
   "source": [
    "import os\n",
    "import pandas as pd\n",
    "\n",
    "ruta_base = \"archive/forms\"\n",
    "\n",
    "# Inicializamos listas vacías\n",
    "textos = []\n",
    "etiquetas = []\n",
    "\n",
    "# Recorrer cada carpeta (que es una clase)\n",
    "for nombre_carpeta in os.listdir(ruta_base):\n",
    "    ruta_carpeta = os.path.join(ruta_base, nombre_carpeta)\n",
    "    if os.path.isdir(ruta_carpeta):\n",
    "        for archivo in os.listdir(ruta_carpeta):\n",
    "            ruta_archivo = os.path.join(ruta_carpeta, archivo)\n",
    "            try:\n",
    "                with open(ruta_archivo, 'r', encoding='utf-8') as f:\n",
    "                    contenido = f.read().strip()\n",
    "                    textos.append(contenido)\n",
    "                    etiquetas.append(nombre_carpeta)\n",
    "            except:\n",
    "                continue\n",
    "\n",
    "# Crear el DataFrame\n",
    "df = pd.DataFrame({'text': textos, 'label': etiquetas})\n",
    "\n",
    "# Ver los primeros datos\n",
    "print(df.head())\n",
    "print(df['label'].value_counts().to_string())\n"
   ]
  },
  {
   "cell_type": "code",
   "execution_count": 14,
   "id": "d7f7b282",
   "metadata": {},
   "outputs": [
    {
     "name": "stdout",
     "output_type": "stream",
     "text": [
      "label\n",
      "otros     6140\n",
      "haiku       99\n",
      "sonnet      79\n",
      "Name: count, dtype: int64\n",
      "label_id\n",
      "1    6140\n",
      "0      99\n",
      "2      79\n",
      "Name: count, dtype: int64\n",
      "['haiku' 'otros' 'sonnet']\n"
     ]
    }
   ],
   "source": [
    "from sklearn.preprocessing import LabelEncoder\n",
    "\n",
    "# Etiquetas que sí quieres mantener con su nombre\n",
    "clases_deseadas = ['haiku', 'sonnet']\n",
    "\n",
    "# Reasignamos todo lo que no es haiku ni sonnet como \"otros\"\n",
    "df['label'] = df['label'].apply(lambda x: x if x in clases_deseadas else 'otros')\n",
    "\n",
    "# Ahora sí codificamos las tres clases\n",
    "le = LabelEncoder()\n",
    "df['label_id'] = le.fit_transform(df['label'])\n",
    "\n",
    "# Imprimir para verificar\n",
    "print(df['label'].value_counts())\n",
    "print(df['label_id'].value_counts())\n",
    "print(le.classes_)  # Te dirá cuál clase es cuál número\n"
   ]
  },
  {
   "cell_type": "code",
   "execution_count": 16,
   "id": "6d8581b9",
   "metadata": {},
   "outputs": [
    {
     "name": "stderr",
     "output_type": "stream",
     "text": [
      "Map: 100%|██████████| 6318/6318 [00:22<00:00, 276.68 examples/s]\n"
     ]
    }
   ],
   "source": [
    "from transformers import BertTokenizer\n",
    "\n",
    "# Cargar el tokenizer de BERT\n",
    "tokenizer = BertTokenizer.from_pretrained(\"bert-base-uncased\")\n",
    "def tokenize_function(examples):\n",
    "    return tokenizer(examples['text'], padding='max_length', truncation=True, max_length=128)\n",
    "\n",
    "dataset = Dataset.from_pandas(df[['text', 'label_id']])\n",
    "tokenized_dataset = dataset.map(tokenize_function, batched=True)\n",
    "tokenized_dataset = tokenized_dataset.rename_column(\"label_id\", \"labels\")\n",
    "\n"
   ]
  },
  {
   "cell_type": "code",
   "execution_count": 21,
   "id": "60311ee7",
   "metadata": {},
   "outputs": [
    {
     "name": "stdout",
     "output_type": "stream",
     "text": [
      "Entrenamiento: 5054 ejemplos\n",
      "Evaluación: 1264 ejemplos\n"
     ]
    }
   ],
   "source": [
    "# Dividir en entrenamiento y prueba (80% - 20%)\n",
    "split_dataset = tokenized_dataset.train_test_split(test_size=0.2, seed=42)\n",
    "\n",
    "# Asignar a variables por claridad\n",
    "train_dataset = split_dataset['train']\n",
    "eval_dataset = split_dataset['test']\n",
    "\n",
    "# Confirmar tamaños\n",
    "print(f\"Entrenamiento: {len(train_dataset)} ejemplos\")\n",
    "print(f\"Evaluación: {len(eval_dataset)} ejemplos\")\n",
    "\n"
   ]
  },
  {
   "cell_type": "code",
   "execution_count": 22,
   "id": "bbe3ca2c",
   "metadata": {},
   "outputs": [
    {
     "name": "stderr",
     "output_type": "stream",
     "text": [
      "Some weights of BertForSequenceClassification were not initialized from the model checkpoint at bert-base-uncased and are newly initialized: ['classifier.bias', 'classifier.weight']\n",
      "You should probably TRAIN this model on a down-stream task to be able to use it for predictions and inference.\n"
     ]
    }
   ],
   "source": [
    "from transformers import BertForSequenceClassification\n",
    "\n",
    "# Indicar la cantidad de clases (por ejemplo: 3 si tienes haiku, sonnet y otros)\n",
    "model = BertForSequenceClassification.from_pretrained(\"bert-base-uncased\", num_labels=3)\n"
   ]
  },
  {
   "cell_type": "markdown",
   "id": "eae0c0b8",
   "metadata": {},
   "source": [
    "con 3 epecas hay confuncion en varios poemas"
   ]
  },
  {
   "cell_type": "code",
   "execution_count": 44,
   "id": "9f92b199",
   "metadata": {},
   "outputs": [
    {
     "name": "stderr",
     "output_type": "stream",
     "text": [
      "C:\\Users\\scout\\AppData\\Local\\Temp\\ipykernel_18764\\2977003183.py:17: FutureWarning: `tokenizer` is deprecated and will be removed in version 5.0.0 for `Trainer.__init__`. Use `processing_class` instead.\n",
      "  trainer = Trainer(\n"
     ]
    },
    {
     "data": {
      "text/html": [
       "\n",
       "    <div>\n",
       "      \n",
       "      <progress value='3160' max='3160' style='width:300px; height:20px; vertical-align: middle;'></progress>\n",
       "      [3160/3160 11:52, Epoch 5/5]\n",
       "    </div>\n",
       "    <table border=\"1\" class=\"dataframe\">\n",
       "  <thead>\n",
       " <tr style=\"text-align: left;\">\n",
       "      <th>Step</th>\n",
       "      <th>Training Loss</th>\n",
       "    </tr>\n",
       "  </thead>\n",
       "  <tbody>\n",
       "    <tr>\n",
       "      <td>500</td>\n",
       "      <td>0.061800</td>\n",
       "    </tr>\n",
       "    <tr>\n",
       "      <td>1000</td>\n",
       "      <td>0.022300</td>\n",
       "    </tr>\n",
       "    <tr>\n",
       "      <td>1500</td>\n",
       "      <td>0.014400</td>\n",
       "    </tr>\n",
       "    <tr>\n",
       "      <td>2000</td>\n",
       "      <td>0.008800</td>\n",
       "    </tr>\n",
       "    <tr>\n",
       "      <td>2500</td>\n",
       "      <td>0.004700</td>\n",
       "    </tr>\n",
       "    <tr>\n",
       "      <td>3000</td>\n",
       "      <td>0.003100</td>\n",
       "    </tr>\n",
       "  </tbody>\n",
       "</table><p>"
      ],
      "text/plain": [
       "<IPython.core.display.HTML object>"
      ]
     },
     "metadata": {},
     "output_type": "display_data"
    },
    {
     "name": "stderr",
     "output_type": "stream",
     "text": [
      "c:\\Users\\scout\\anaconda3\\envs\\nlp-env\\Lib\\site-packages\\torch\\nn\\modules\\module.py:1762: FutureWarning: `encoder_attention_mask` is deprecated and will be removed in version 4.55.0 for `BertSdpaSelfAttention.forward`.\n",
      "  return forward_call(*args, **kwargs)\n",
      "c:\\Users\\scout\\anaconda3\\envs\\nlp-env\\Lib\\site-packages\\torch\\nn\\modules\\module.py:1762: FutureWarning: `encoder_attention_mask` is deprecated and will be removed in version 4.55.0 for `BertSdpaSelfAttention.forward`.\n",
      "  return forward_call(*args, **kwargs)\n",
      "c:\\Users\\scout\\anaconda3\\envs\\nlp-env\\Lib\\site-packages\\torch\\nn\\modules\\module.py:1762: FutureWarning: `encoder_attention_mask` is deprecated and will be removed in version 4.55.0 for `BertSdpaSelfAttention.forward`.\n",
      "  return forward_call(*args, **kwargs)\n",
      "c:\\Users\\scout\\anaconda3\\envs\\nlp-env\\Lib\\site-packages\\torch\\nn\\modules\\module.py:1762: FutureWarning: `encoder_attention_mask` is deprecated and will be removed in version 4.55.0 for `BertSdpaSelfAttention.forward`.\n",
      "  return forward_call(*args, **kwargs)\n",
      "c:\\Users\\scout\\anaconda3\\envs\\nlp-env\\Lib\\site-packages\\torch\\nn\\modules\\module.py:1762: FutureWarning: `encoder_attention_mask` is deprecated and will be removed in version 4.55.0 for `BertSdpaSelfAttention.forward`.\n",
      "  return forward_call(*args, **kwargs)\n",
      "c:\\Users\\scout\\anaconda3\\envs\\nlp-env\\Lib\\site-packages\\torch\\nn\\modules\\module.py:1762: FutureWarning: `encoder_attention_mask` is deprecated and will be removed in version 4.55.0 for `BertSdpaSelfAttention.forward`.\n",
      "  return forward_call(*args, **kwargs)\n"
     ]
    },
    {
     "data": {
      "text/plain": [
       "TrainOutput(global_step=3160, training_loss=0.018526437275017363, metrics={'train_runtime': 712.8334, 'train_samples_per_second': 35.45, 'train_steps_per_second': 4.433, 'total_flos': 1662219016496640.0, 'train_loss': 0.018526437275017363, 'epoch': 5.0})"
      ]
     },
     "execution_count": 44,
     "metadata": {},
     "output_type": "execute_result"
    }
   ],
   "source": [
    "from transformers import TrainingArguments, Trainer\n",
    "from transformers import DataCollatorWithPadding\n",
    "\n",
    "# Preparar colador de datos\n",
    "data_collator = DataCollatorWithPadding(tokenizer=tokenizer)\n",
    "\n",
    "# Argumentos básicos de entrenamiento compatibles\n",
    "training_args = TrainingArguments(\n",
    "    output_dir=\"./resultados\",\n",
    "    per_device_train_batch_size=8,\n",
    "    per_device_eval_batch_size=8,\n",
    "    num_train_epochs=5,\n",
    "    logging_dir=\"./logs\"\n",
    ")\n",
    "\n",
    "# Definir Trainer\n",
    "trainer = Trainer(\n",
    "    model=model,\n",
    "    args=training_args,\n",
    "    train_dataset=train_dataset,\n",
    "    eval_dataset=eval_dataset,\n",
    "    tokenizer=tokenizer,\n",
    "    data_collator=data_collator,\n",
    ")\n",
    "\n",
    "# Entrenar\n",
    "trainer.train()\n"
   ]
  },
  {
   "cell_type": "code",
   "execution_count": 47,
   "id": "8b54ebcc",
   "metadata": {},
   "outputs": [
    {
     "data": {
      "text/plain": [
       "('./modelo_poemasv2\\\\tokenizer_config.json',\n",
       " './modelo_poemasv2\\\\special_tokens_map.json',\n",
       " './modelo_poemasv2\\\\vocab.txt',\n",
       " './modelo_poemasv2\\\\added_tokens.json')"
      ]
     },
     "execution_count": 47,
     "metadata": {},
     "output_type": "execute_result"
    }
   ],
   "source": [
    "model.save_pretrained(\"./modelo_poemasv2\")\n",
    "tokenizer.save_pretrained(\"./modelo_poemasv2\")\n"
   ]
  },
  {
   "cell_type": "code",
   "execution_count": null,
   "id": "dfb213c9",
   "metadata": {},
   "outputs": [],
   "source": [
    "from transformers import BertTokenizer, BertForSequenceClassification\n",
    "\n",
    "# Cargar modelo entrenado\n",
    "modelo_entrenado = BertForSequenceClassification.from_pretrained(\"./modelo_poemasv2\")\n",
    "tokenizer_entrenado = BertTokenizer.from_pretrained(\"./modelo_poemasv2\")\n"
   ]
  },
  {
   "cell_type": "code",
   "execution_count": 5,
   "id": "f389d5a9",
   "metadata": {},
   "outputs": [
    {
     "ename": "NameError",
     "evalue": "name 'le' is not defined",
     "output_type": "error",
     "traceback": [
      "\u001b[31m---------------------------------------------------------------------------\u001b[39m",
      "\u001b[31mNameError\u001b[39m                                 Traceback (most recent call last)",
      "\u001b[36mCell\u001b[39m\u001b[36m \u001b[39m\u001b[32mIn[5]\u001b[39m\u001b[32m, line 17\u001b[39m\n\u001b[32m     14\u001b[39m     logits = outputs.logits\n\u001b[32m     15\u001b[39m     predicted_class_id = logits.argmax().item()\n\u001b[32m---> \u001b[39m\u001b[32m17\u001b[39m \u001b[38;5;28mprint\u001b[39m(\u001b[33m\"\u001b[39m\u001b[33mPredicción:\u001b[39m\u001b[33m\"\u001b[39m, \u001b[43mle\u001b[49m.classes_[predicted_class_id])  \n",
      "\u001b[31mNameError\u001b[39m: name 'le' is not defined"
     ]
    }
   ],
   "source": [
    "import torch\n",
    "\n",
    "poema = \"\"\"One of the four great masters of Japanese haiku, Matsuo Bashō is known for his simplistic yet thought-provoking haikus. “The Old Pond”, arguably his most famous piece, stays true to his style of couching observations of human nature within natural imagery. One interpretation is that by metaphorically using the ‘pond’ to symbolize the mind, Bashō brings to light the impact of external stimuli (embodied by the frog, a traditional subject of Japanese poetry) on the human mind. \n",
    "\"\"\"\n",
    "\n",
    "# Preparar input\n",
    "inputs = tokenizer_entrenado(poema, return_tensors=\"pt\", padding='max_length', truncation=True, max_length=128)\n",
    "inputs = {k: v.to(modelo_entrenado.device) for k, v in inputs.items()}\n",
    "\n",
    "# Predecir\n",
    "modelo_entrenado.eval()\n",
    "with torch.no_grad():\n",
    "    outputs = modelo_entrenado(**inputs)\n",
    "    logits = outputs.logits\n",
    "    predicted_class_id = logits.argmax().item()\n",
    "\n",
    "print(\"Predicción:\", le.classes_[predicted_class_id])  \n"
   ]
  },
  {
   "cell_type": "code",
   "execution_count": 50,
   "id": "c6014800",
   "metadata": {},
   "outputs": [
    {
     "name": "stdout",
     "output_type": "stream",
     "text": [
      "haiku10_masaoka_shiki_cold.txt: sonnet (confianza: 1.00)\n",
      "haiku11_modern_sea.txt: sonnet (confianza: 1.00)\n",
      "haiku12_modern_lanterns.txt: sonnet (confianza: 1.00)\n",
      "haiku13_modern_train.txt: sonnet (confianza: 1.00)\n",
      "haiku14_modern_rain.txt: sonnet (confianza: 1.00)\n",
      "haiku15_modern_moon.txt: haiku (confianza: 1.00)\n",
      "haiku16_modern_street.txt: haiku (confianza: 1.00)\n",
      "haiku17_modern_coffee.txt: sonnet (confianza: 1.00)\n",
      "haiku18_modern_tree.txt: sonnet (confianza: 1.00)\n",
      "haiku19_modern_beach.txt: sonnet (confianza: 1.00)\n",
      "haiku1_matsuo_basho_frog.txt: haiku (confianza: 1.00)\n",
      "haiku20_modern_fireflies.txt: sonnet (confianza: 1.00)\n",
      "haiku2_matsuo_basho_autumn.txt: haiku (confianza: 1.00)\n",
      "haiku3_matsuo_basho_summer.txt: sonnet (confianza: 1.00)\n",
      "haiku4_yosa_buson_butterfly.txt: sonnet (confianza: 1.00)\n",
      "haiku5_yosa_buson_moon.txt: sonnet (confianza: 1.00)\n",
      "haiku6_kobayashi_issa_snail.txt: sonnet (confianza: 1.00)\n",
      "haiku7_kobayashi_issa_dewdrop.txt: sonnet (confianza: 1.00)\n",
      "haiku8_kobayashi_issa_child.txt: sonnet (confianza: 1.00)\n",
      "haiku9_masaoka_shiki_cherry.txt: haiku (confianza: 1.00)\n",
      "poem01_free_verse_morning.txt: sonnet (confianza: 1.00)\n",
      "poem02_limerick_cat.txt: sonnet (confianza: 1.00)\n",
      "poem03_acrostic_peace.txt: sonnet (confianza: 1.00)\n",
      "poem04_narrative_village.txt: sonnet (confianza: 1.00)\n",
      "poem05_tanka_autumn.txt: sonnet (confianza: 1.00)\n",
      "poem06_concrete_tree.txt: sonnet (confianza: 1.00)\n",
      "poem07_elegy_evening.txt: haiku (confianza: 1.00)\n",
      "poem08_couplet_night.txt: haiku (confianza: 1.00)\n",
      "poem09_epigram_truth.txt: sonnet (confianza: 1.00)\n",
      "poem10_ballad_forest.txt: sonnet (confianza: 1.00)\n",
      "poem11_shape_heart.txt: haiku (confianza: 0.99)\n",
      "poem12_villanelle_wind.txt: sonnet (confianza: 1.00)\n",
      "poem13_blank_verse_clouds.txt: sonnet (confianza: 1.00)\n",
      "poem14_epic_stars.txt: sonnet (confianza: 1.00)\n",
      "poem15_didactic_mirror.txt: sonnet (confianza: 1.00)\n",
      "poem16_ode_to_rain.txt: sonnet (confianza: 1.00)\n",
      "poem17_pastoral_field.txt: sonnet (confianza: 1.00)\n",
      "poem18_quatrain_stars.txt: sonnet (confianza: 1.00)\n",
      "poem19_chant_dawn.txt: sonnet (confianza: 1.00)\n",
      "poem20_list_nature.txt: sonnet (confianza: 0.77)\n",
      "sonnet01_shakespeare_18.txt: otros (confianza: 1.00)\n",
      "sonnet02_shakespeare_116.txt: otros (confianza: 1.00)\n",
      "sonnet03_shakespeare_130.txt: sonnet (confianza: 1.00)\n",
      "sonnet04_milton_on_his_blindness.txt: sonnet (confianza: 1.00)\n",
      "sonnet05_modern_classical.txt: sonnet (confianza: 1.00)\n",
      "sonnet06_modern_classical.txt: sonnet (confianza: 1.00)\n",
      "sonnet07_modern_classical.txt: sonnet (confianza: 1.00)\n",
      "sonnet08_modern_classical.txt: sonnet (confianza: 1.00)\n",
      "sonnet09_modern_classical.txt: sonnet (confianza: 1.00)\n",
      "sonnet10_modern_classical.txt: sonnet (confianza: 1.00)\n",
      "sonnet11_modern_classical.txt: sonnet (confianza: 1.00)\n",
      "sonnet12_modern_classical.txt: sonnet (confianza: 1.00)\n",
      "sonnet13_modern_classical.txt: sonnet (confianza: 1.00)\n",
      "sonnet14_modern_classical.txt: sonnet (confianza: 1.00)\n",
      "sonnet15_modern_classical.txt: sonnet (confianza: 1.00)\n",
      "sonnet16_modern_classical.txt: sonnet (confianza: 1.00)\n",
      "sonnet17_modern_classical.txt: sonnet (confianza: 1.00)\n",
      "sonnet18_modern_classical.txt: sonnet (confianza: 1.00)\n",
      "sonnet19_modern_classical.txt: sonnet (confianza: 1.00)\n",
      "sonnet20_modern_classical.txt: sonnet (confianza: 1.00)\n"
     ]
    }
   ],
   "source": [
    "import os\n",
    "import torch\n",
    "import torch.nn.functional as F\n",
    "from transformers import BertTokenizer, BertForSequenceClassification\n",
    "from pathlib import Path\n",
    "\n",
    "# Cargar modelo y tokenizer\n",
    "model_path = \"./modelo_poemasv2\"\n",
    "model = BertForSequenceClassification.from_pretrained(model_path)\n",
    "model.eval()\n",
    "tokenizer = BertTokenizer.from_pretrained(\"bert-base-uncased\")\n",
    "\n",
    "# Clases en el mismo orden del entrenamiento\n",
    "labels = [\"haiku\", \"sonnet\", \"otros\"]\n",
    "\n",
    "# Dispositivo\n",
    "device = torch.device(\"cuda\" if torch.cuda.is_available() else \"cpu\")\n",
    "model.to(device)\n",
    "\n",
    "# Carpeta con los archivos .txt\n",
    "carpeta_poemas = \"./Poemasvar\"\n",
    "\n",
    "# Umbral de confianza para decir \"desconocido\"\n",
    "umbral_confianza = 0.65  # puedes ajustar entre 0.5 y 0.7 según tu preferencia\n",
    "\n",
    "# Recorrer todos los archivos .txt\n",
    "for archivo in Path(carpeta_poemas).glob(\"*.txt\"):\n",
    "    with open(archivo, \"r\", encoding=\"utf-8\") as f:\n",
    "        texto = f.read().strip()\n",
    "\n",
    "    # Tokenizar\n",
    "    inputs = tokenizer(texto, return_tensors=\"pt\", truncation=True, padding=\"max_length\", max_length=128)\n",
    "    inputs = {k: v.to(device) for k, v in inputs.items()}\n",
    "\n",
    "    # Predicción\n",
    "    with torch.no_grad():\n",
    "        outputs = model(**inputs)\n",
    "        logits = outputs.logits\n",
    "        probs = F.softmax(logits, dim=-1)\n",
    "        confidence, pred_id = torch.max(probs, dim=1)\n",
    "\n",
    "    # Evaluar confianza\n",
    "    if confidence.item() < umbral_confianza:\n",
    "        clase_predicha = \"desconocido\"\n",
    "    else:\n",
    "        clase_predicha = labels[pred_id.item()]\n",
    "\n",
    "    print(f\"{archivo.name}: {clase_predicha} (confianza: {confidence.item():.2f})\")\n"
   ]
  },
  {
   "cell_type": "markdown",
   "id": "6e382ea1",
   "metadata": {},
   "source": [
    "Modelo con las clases balanceadas\n"
   ]
  },
  {
   "cell_type": "code",
   "execution_count": 32,
   "id": "58c0066f",
   "metadata": {},
   "outputs": [],
   "source": [
    "import os\n",
    "import pandas as pd\n",
    "\n",
    "ruta_base = \"archive/forms\"\n",
    "\n",
    "# Inicializamos listas vacías\n",
    "textos = []\n",
    "etiquetas = []\n",
    "\n",
    "# Recorrer cada carpeta (que es una clase)\n",
    "for nombre_carpeta in os.listdir(ruta_base):\n",
    "    ruta_carpeta = os.path.join(ruta_base, nombre_carpeta)\n",
    "    if os.path.isdir(ruta_carpeta):\n",
    "        for archivo in os.listdir(ruta_carpeta):\n",
    "            ruta_archivo = os.path.join(ruta_carpeta, archivo)\n",
    "            try:\n",
    "                with open(ruta_archivo, 'r', encoding='utf-8') as f:\n",
    "                    contenido = f.read().strip()\n",
    "                    textos.append(contenido)\n",
    "                    etiquetas.append(nombre_carpeta)\n",
    "            except:\n",
    "                continue\n",
    "\n",
    "# Crear el DataFrame\n",
    "df = pd.DataFrame({'text': textos, 'label': etiquetas})\n"
   ]
  },
  {
   "cell_type": "code",
   "execution_count": 33,
   "id": "fb2613b7",
   "metadata": {},
   "outputs": [],
   "source": [
    "from sklearn.preprocessing import LabelEncoder\n",
    "\n",
    "le = LabelEncoder()\n",
    "df['label_id'] = le.fit_transform(df['label'])  "
   ]
  },
  {
   "cell_type": "code",
   "execution_count": 35,
   "id": "7cdcc2da",
   "metadata": {},
   "outputs": [
    {
     "name": "stdout",
     "output_type": "stream",
     "text": [
      "Clases codificadas: ['haiku', 'otros', 'sonnet']\n",
      "Distribución balanceada final:\n",
      "label\n",
      "sonnet    99\n",
      "otros     99\n",
      "haiku     99\n",
      "Name: count, dtype: int64\n"
     ]
    }
   ],
   "source": [
    "from sklearn.utils import resample\n",
    "from sklearn.preprocessing import LabelEncoder\n",
    "\n",
    "# Reasignar etiquetas no deseadas como \"otros\"\n",
    "clases_deseadas = ['haiku', 'sonnet']\n",
    "df['label'] = df['label'].apply(lambda x: x if x in clases_deseadas else 'otros')\n",
    "\n",
    "# Codificar etiquetas\n",
    "le = LabelEncoder()\n",
    "df['label_id'] = le.fit_transform(df['label'])\n",
    "print(\"Clases codificadas:\", list(le.classes_))  # ['haiku', 'otros', 'sonnet']\n",
    "\n",
    "# Separar por clase\n",
    "df_haiku = df[df['label'] == 'haiku']\n",
    "df_sonnet = df[df['label'] == 'sonnet']\n",
    "df_otros = df[df['label'] == 'otros']\n",
    "\n",
    "# Fijar tamaño objetivo (igual al tamaño de la clase minoritaria más grande)\n",
    "target_size = max(len(df_haiku), len(df_sonnet))  # en este caso, 99\n",
    "\n",
    "# Reamostrar cada clase al tamaño objetivo\n",
    "df_haiku_up = resample(df_haiku, replace=True, n_samples=target_size, random_state=42)\n",
    "df_sonnet_up = resample(df_sonnet, replace=True, n_samples=target_size, random_state=42)\n",
    "df_otros_down = resample(df_otros, replace=False, n_samples=target_size, random_state=42)\n",
    "\n",
    "# Combinar y mezclar\n",
    "df_balanced = pd.concat([df_haiku_up, df_sonnet_up, df_otros_down])\n",
    "df_balanced = df_balanced.sample(frac=1, random_state=42).reset_index(drop=True)\n",
    "\n",
    "# Verificación\n",
    "print(\"Distribución balanceada final:\")\n",
    "print(df_balanced['label'].value_counts())\n"
   ]
  },
  {
   "cell_type": "code",
   "execution_count": 36,
   "id": "a39143de",
   "metadata": {},
   "outputs": [],
   "source": [
    "from sklearn.model_selection import train_test_split\n",
    "\n",
    "train_texts, val_texts, train_labels, val_labels = train_test_split(\n",
    "    df_balanced['text'], df_balanced['label_id'], test_size=0.2, stratify=df_balanced['label_id'], random_state=42\n",
    ")\n"
   ]
  },
  {
   "cell_type": "code",
   "execution_count": 37,
   "id": "cb35bfff",
   "metadata": {},
   "outputs": [
    {
     "name": "stderr",
     "output_type": "stream",
     "text": [
      "Map: 100%|██████████| 237/237 [00:00<00:00, 5033.14 examples/s]\n",
      "Map: 100%|██████████| 60/60 [00:00<00:00, 3461.27 examples/s]\n"
     ]
    }
   ],
   "source": [
    "from transformers import BertTokenizerFast\n",
    "\n",
    "tokenizer = BertTokenizerFast.from_pretrained('bert-base-uncased')\n",
    "\n",
    "def tokenize(batch):\n",
    "    return tokenizer(batch['text'], padding='max_length', truncation=True, max_length=256)\n",
    "\n",
    "# Convertimos a formato Dataset de Hugging Face\n",
    "from datasets import Dataset\n",
    "\n",
    "train_dataset = Dataset.from_pandas(pd.DataFrame({'text': train_texts, 'label': train_labels}))\n",
    "val_dataset = Dataset.from_pandas(pd.DataFrame({'text': val_texts, 'label': val_labels}))\n",
    "\n",
    "# Aplicamos la tokenización\n",
    "train_dataset = train_dataset.map(tokenize, batched=True)\n",
    "val_dataset = val_dataset.map(tokenize, batched=True)\n"
   ]
  },
  {
   "cell_type": "code",
   "execution_count": 38,
   "id": "428d7659",
   "metadata": {},
   "outputs": [],
   "source": [
    "train_dataset = train_dataset.remove_columns(['text', '__index_level_0__'])\n",
    "val_dataset = val_dataset.remove_columns(['text', '__index_level_0__'])\n",
    "\n",
    "train_dataset.set_format('torch')\n",
    "val_dataset.set_format('torch')\n"
   ]
  },
  {
   "cell_type": "code",
   "execution_count": 39,
   "id": "3eca746f",
   "metadata": {},
   "outputs": [
    {
     "name": "stderr",
     "output_type": "stream",
     "text": [
      "Some weights of BertForSequenceClassification were not initialized from the model checkpoint at bert-base-uncased and are newly initialized: ['classifier.bias', 'classifier.weight']\n",
      "You should probably TRAIN this model on a down-stream task to be able to use it for predictions and inference.\n",
      "C:\\Users\\scout\\AppData\\Local\\Temp\\ipykernel_46228\\2784539424.py:18: FutureWarning: `tokenizer` is deprecated and will be removed in version 5.0.0 for `Trainer.__init__`. Use `processing_class` instead.\n",
      "  trainer = Trainer(\n",
      "c:\\Users\\scout\\anaconda3\\envs\\nlp-env\\Lib\\site-packages\\torch\\nn\\modules\\module.py:1762: FutureWarning: `encoder_attention_mask` is deprecated and will be removed in version 4.55.0 for `BertSdpaSelfAttention.forward`.\n",
      "  return forward_call(*args, **kwargs)\n"
     ]
    },
    {
     "data": {
      "text/html": [
       "\n",
       "    <div>\n",
       "      \n",
       "      <progress value='180' max='180' style='width:300px; height:20px; vertical-align: middle;'></progress>\n",
       "      [180/180 23:48, Epoch 6/6]\n",
       "    </div>\n",
       "    <table border=\"1\" class=\"dataframe\">\n",
       "  <thead>\n",
       " <tr style=\"text-align: left;\">\n",
       "      <th>Step</th>\n",
       "      <th>Training Loss</th>\n",
       "    </tr>\n",
       "  </thead>\n",
       "  <tbody>\n",
       "  </tbody>\n",
       "</table><p>"
      ],
      "text/plain": [
       "<IPython.core.display.HTML object>"
      ]
     },
     "metadata": {},
     "output_type": "display_data"
    },
    {
     "data": {
      "text/plain": [
       "TrainOutput(global_step=180, training_loss=0.32196506924099394, metrics={'train_runtime': 1432.9251, 'train_samples_per_second': 0.992, 'train_steps_per_second': 0.126, 'total_flos': 187073640004608.0, 'train_loss': 0.32196506924099394, 'epoch': 6.0})"
      ]
     },
     "execution_count": 39,
     "metadata": {},
     "output_type": "execute_result"
    }
   ],
   "source": [
    "from transformers import BertForSequenceClassification, TrainingArguments, Trainer\n",
    "\n",
    "model = BertForSequenceClassification.from_pretrained(\"bert-base-uncased\", num_labels=3)\n",
    "\n",
    "from transformers import TrainingArguments\n",
    "\n",
    "training_args = TrainingArguments(\n",
    "    output_dir=\"./resultados_balanceado4\",\n",
    "    do_train=True,\n",
    "    do_eval=True,\n",
    "    learning_rate=2e-5,\n",
    "    per_device_train_batch_size=8,\n",
    "    per_device_eval_batch_size=8,\n",
    "    num_train_epochs=6,\n",
    "    logging_dir=\"./logs_balanceado4\"\n",
    ")\n",
    "\n",
    "trainer = Trainer(\n",
    "    model=model,\n",
    "    args=training_args,\n",
    "    train_dataset=train_dataset,\n",
    "    eval_dataset=val_dataset,\n",
    "    tokenizer=tokenizer\n",
    ")\n",
    "\n",
    "trainer.train()\n"
   ]
  },
  {
   "cell_type": "code",
   "execution_count": 40,
   "id": "4c946cce",
   "metadata": {},
   "outputs": [
    {
     "data": {
      "text/plain": [
       "('./modelo_balanceado4\\\\tokenizer_config.json',\n",
       " './modelo_balanceado4\\\\special_tokens_map.json',\n",
       " './modelo_balanceado4\\\\vocab.txt',\n",
       " './modelo_balanceado4\\\\added_tokens.json',\n",
       " './modelo_balanceado4\\\\tokenizer.json')"
      ]
     },
     "execution_count": 40,
     "metadata": {},
     "output_type": "execute_result"
    }
   ],
   "source": [
    "# Guardar modelo y tokenizer\n",
    "trainer.save_model(\"./modelo_balanceado4\")\n",
    "tokenizer.save_pretrained(\"./modelo_balanceado4\")\n"
   ]
  },
  {
   "cell_type": "code",
   "execution_count": 43,
   "id": "e7ca5623",
   "metadata": {},
   "outputs": [
    {
     "name": "stdout",
     "output_type": "stream",
     "text": [
      "haiku10_masaoka_shiki_cold.txt: haiku (confianza: 0.90)\n",
      "haiku11_modern_sea.txt: haiku (confianza: 0.95)\n",
      "haiku12_modern_lanterns.txt: haiku (confianza: 0.97)\n",
      "haiku13_modern_train.txt: haiku (confianza: 0.97)\n",
      "haiku14_modern_rain.txt: haiku (confianza: 0.97)\n",
      "haiku15_modern_moon.txt: haiku (confianza: 0.97)\n",
      "haiku16_modern_street.txt: haiku (confianza: 0.97)\n",
      "haiku17_modern_coffee.txt: haiku (confianza: 0.97)\n",
      "haiku18_modern_tree.txt: haiku (confianza: 0.98)\n",
      "haiku19_modern_beach.txt: haiku (confianza: 0.98)\n",
      "haiku1_matsuo_basho_frog.txt: haiku (confianza: 0.98)\n",
      "haiku20_modern_fireflies.txt: haiku (confianza: 0.97)\n",
      "haiku2_matsuo_basho_autumn.txt: haiku (confianza: 0.97)\n",
      "haiku3_matsuo_basho_summer.txt: haiku (confianza: 0.80)\n",
      "haiku4_yosa_buson_butterfly.txt: haiku (confianza: 0.97)\n",
      "haiku5_yosa_buson_moon.txt: haiku (confianza: 0.97)\n",
      "haiku6_kobayashi_issa_snail.txt: haiku (confianza: 0.97)\n",
      "haiku7_kobayashi_issa_dewdrop.txt: otros (confianza: 0.57)\n",
      "haiku8_kobayashi_issa_child.txt: haiku (confianza: 0.94)\n",
      "haiku9_masaoka_shiki_cherry.txt: haiku (confianza: 0.98)\n",
      "poem01_free_verse_morning.txt: haiku (confianza: 0.96)\n",
      "poem02_limerick_cat.txt: sonnet (confianza: 0.73)\n",
      "poem03_acrostic_peace.txt: sonnet (confianza: 0.96)\n",
      "poem04_narrative_village.txt: sonnet (confianza: 0.88)\n",
      "poem05_tanka_autumn.txt: haiku (confianza: 0.97)\n",
      "poem06_concrete_tree.txt: sonnet (confianza: 0.80)\n",
      "poem07_elegy_evening.txt: haiku (confianza: 0.96)\n",
      "poem08_couplet_night.txt: haiku (confianza: 0.96)\n",
      "poem09_epigram_truth.txt: haiku (confianza: 0.62)\n",
      "poem10_ballad_forest.txt: otros (confianza: 0.54)\n",
      "poem11_shape_heart.txt: haiku (confianza: 0.92)\n",
      "poem12_villanelle_wind.txt: otros (confianza: 0.52)\n",
      "poem13_blank_verse_clouds.txt: haiku (confianza: 0.97)\n",
      "poem14_epic_stars.txt: otros (confianza: 0.44)\n",
      "poem15_didactic_mirror.txt: haiku (confianza: 0.70)\n",
      "poem16_ode_to_rain.txt: otros (confianza: 0.53)\n",
      "poem17_pastoral_field.txt: haiku (confianza: 0.97)\n",
      "poem18_quatrain_stars.txt: sonnet (confianza: 0.89)\n",
      "poem19_chant_dawn.txt: otros (confianza: 0.40)\n",
      "poem20_list_nature.txt: haiku (confianza: 0.98)\n",
      "sonnet01_shakespeare_18.txt: otros (confianza: 0.98)\n",
      "sonnet02_shakespeare_116.txt: otros (confianza: 0.97)\n",
      "sonnet03_shakespeare_130.txt: otros (confianza: 0.98)\n",
      "sonnet04_milton_on_his_blindness.txt: otros (confianza: 0.97)\n",
      "sonnet05_modern_classical.txt: sonnet (confianza: 0.95)\n",
      "sonnet06_modern_classical.txt: sonnet (confianza: 0.95)\n",
      "sonnet07_modern_classical.txt: sonnet (confianza: 0.95)\n",
      "sonnet08_modern_classical.txt: sonnet (confianza: 0.95)\n",
      "sonnet09_modern_classical.txt: sonnet (confianza: 0.95)\n",
      "sonnet10_modern_classical.txt: sonnet (confianza: 0.95)\n",
      "sonnet11_modern_classical.txt: sonnet (confianza: 0.95)\n",
      "sonnet12_modern_classical.txt: sonnet (confianza: 0.95)\n",
      "sonnet13_modern_classical.txt: sonnet (confianza: 0.95)\n",
      "sonnet14_modern_classical.txt: sonnet (confianza: 0.95)\n",
      "sonnet15_modern_classical.txt: sonnet (confianza: 0.95)\n",
      "sonnet16_modern_classical.txt: sonnet (confianza: 0.95)\n",
      "sonnet17_modern_classical.txt: sonnet (confianza: 0.95)\n",
      "sonnet18_modern_classical.txt: sonnet (confianza: 0.95)\n",
      "sonnet19_modern_classical.txt: sonnet (confianza: 0.95)\n",
      "sonnet20_modern_classical.txt: sonnet (confianza: 0.95)\n"
     ]
    }
   ],
   "source": [
    "import os\n",
    "import torch\n",
    "import torch.nn.functional as F\n",
    "from transformers import BertTokenizer, BertForSequenceClassification\n",
    "from pathlib import Path\n",
    "\n",
    "# Cargar modelo y tokenizer\n",
    "model_path = \"./modelo_balanceado4\"\n",
    "model = BertForSequenceClassification.from_pretrained(model_path)\n",
    "model.eval()\n",
    "tokenizer = BertTokenizer.from_pretrained(\"bert-base-uncased\")\n",
    "\n",
    "# Clases en el mismo orden del entrenamiento\n",
    "labels = [\"haiku\", \"sonnet\", \"otros\"]\n",
    "\n",
    "# Dispositivo\n",
    "device = torch.device(\"cuda\" if torch.cuda.is_available() else \"cpu\")\n",
    "model.to(device)\n",
    "\n",
    "# Carpeta con los archivos .txt\n",
    "carpeta_poemas = \"./Poemasvar\"\n",
    "\n",
    "# Umbral de confianza para decir \"desconocido\"\n",
    "umbral_confianza = 0.60 # puedes ajustar entre 0.5 y 0.7 según tu preferencia\n",
    "\n",
    "# Recorrer todos los archivos .txt\n",
    "for archivo in Path(carpeta_poemas).glob(\"*.txt\"):\n",
    "    with open(archivo, \"r\", encoding=\"utf-8\") as f:\n",
    "        texto = f.read().strip()\n",
    "\n",
    "    # Tokenizar\n",
    "    inputs = tokenizer(texto, return_tensors=\"pt\", truncation=True, padding=\"max_length\", max_length=128)\n",
    "    inputs = {k: v.to(device) for k, v in inputs.items()}\n",
    "\n",
    "    # Predicción\n",
    "    # Evaluar confianza y predecir\n",
    "    with torch.no_grad():\n",
    "        outputs = model(**inputs)\n",
    "        logits = outputs.logits\n",
    "        probs = F.softmax(logits, dim=-1)\n",
    "        confidence, pred_id = torch.max(probs, dim=1)\n",
    "\n",
    "        if confidence.item() < umbral_confianza:\n",
    "            clase_predicha = \"otros\"\n",
    "        else:\n",
    "            clase_predicha = labels[pred_id.item()]\n",
    "\n",
    "    print(f\"{archivo.name}: {clase_predicha} (confianza: {confidence.item():.2f})\")\n",
    "\n"
   ]
  },
  {
   "cell_type": "code",
   "execution_count": 44,
   "id": "2076d3f3",
   "metadata": {},
   "outputs": [
    {
     "name": "stderr",
     "output_type": "stream",
     "text": [
      "c:\\Users\\scout\\anaconda3\\envs\\nlp-env\\Lib\\site-packages\\torch\\nn\\modules\\module.py:1762: FutureWarning: `encoder_attention_mask` is deprecated and will be removed in version 4.55.0 for `BertSdpaSelfAttention.forward`.\n",
      "  return forward_call(*args, **kwargs)\n"
     ]
    },
    {
     "name": "stdout",
     "output_type": "stream",
     "text": [
      "\n",
      "REPORTE DE CLASIFICACION:\n",
      "\n",
      "              precision    recall  f1-score   support\n",
      "\n",
      "       haiku      0.594     0.950     0.731        20\n",
      "      sonnet      0.696     0.800     0.744        20\n",
      "       otros      0.000     0.000     0.000        20\n",
      "\n",
      "    accuracy                          0.583        60\n",
      "   macro avg      0.430     0.583     0.492        60\n",
      "weighted avg      0.430     0.583     0.492        60\n",
      "\n"
     ]
    },
    {
     "data": {
      "image/png": "[encoded data removed]",
      "text/plain": [
       "<Figure size 600x500 with 2 Axes>"
      ]
     },
     "metadata": {},
     "output_type": "display_data"
    }
   ],
   "source": [
    "import os\n",
    "import torch\n",
    "import torch.nn.functional as F\n",
    "from transformers import BertTokenizer, BertForSequenceClassification\n",
    "from pathlib import Path\n",
    "from sklearn.metrics import classification_report, confusion_matrix\n",
    "import matplotlib.pyplot as plt\n",
    "import seaborn as sns\n",
    "\n",
    "# Configuración\n",
    "model_path = \"./modelo_balanceado4\"\n",
    "carpeta_poemas = \"./Poemasvar\"\n",
    "labels = [\"haiku\", \"sonnet\", \"otros\"]\n",
    "umbral_confianza = 0.60\n",
    "\n",
    "# Cargar modelo y tokenizer\n",
    "tokenizer = BertTokenizer.from_pretrained(\"bert-base-uncased\")\n",
    "model = BertForSequenceClassification.from_pretrained(model_path)\n",
    "model.eval()\n",
    "device = torch.device(\"cuda\" if torch.cuda.is_available() else \"cpu\")\n",
    "model.to(device)\n",
    "\n",
    "# Listas para almacenar resultados\n",
    "true_labels = []\n",
    "pred_labels = []\n",
    "\n",
    "# Recorrer archivos\n",
    "for archivo in Path(carpeta_poemas).glob(\"*.txt\"):\n",
    "    nombre = archivo.name.lower()\n",
    "    if \"haiku\" in nombre:\n",
    "        true_label = \"haiku\"\n",
    "    elif \"sonnet\" in nombre:\n",
    "        true_label = \"sonnet\"\n",
    "    else:\n",
    "        true_label = \"otros\"\n",
    "\n",
    "    with open(archivo, \"r\", encoding=\"utf-8\") as f:\n",
    "        texto = f.read().strip()\n",
    "\n",
    "    inputs = tokenizer(texto, return_tensors=\"pt\", truncation=True, padding=\"max_length\", max_length=128)\n",
    "    inputs = {k: v.to(device) for k, v in inputs.items()}\n",
    "\n",
    "    with torch.no_grad():\n",
    "        outputs = model(**inputs)\n",
    "        logits = outputs.logits\n",
    "        probs = F.softmax(logits, dim=-1)\n",
    "        confidence, pred_id = torch.max(probs, dim=1)\n",
    "\n",
    "    pred_label = labels[pred_id.item()]\n",
    "    pred_labels.append(pred_label)\n",
    "    true_labels.append(true_label)\n",
    "\n",
    "# Mostrar reporte\n",
    "print(\"\\nREPORTE DE CLASIFICACION:\\n\")\n",
    "print(classification_report(true_labels, pred_labels, labels=labels, digits=3))\n",
    "\n",
    "# Matriz de confusión\n",
    "cm = confusion_matrix(true_labels, pred_labels, labels=labels)\n",
    "\n",
    "plt.figure(figsize=(6, 5))\n",
    "sns.heatmap(cm, annot=True, fmt=\"d\", cmap=\"Blues\", xticklabels=labels, yticklabels=labels)\n",
    "plt.xlabel(\"Predicción\")\n",
    "plt.ylabel(\"Valor real\")\n",
    "plt.title(\"Matriz de Confusión\")\n",
    "plt.tight_layout()\n",
    "plt.show()\n"
   ]
  },
  {
   "cell_type": "code",
   "execution_count": 45,
   "id": "bc9421e0",
   "metadata": {},
   "outputs": [
    {
     "name": "stdout",
     "output_type": "stream",
     "text": [
      "============================================================\n",
      "Evaluando: modelo_poemas\n",
      "============================================================\n"
     ]
    },
    {
     "name": "stderr",
     "output_type": "stream",
     "text": [
      "c:\\Users\\scout\\anaconda3\\envs\\nlp-env\\Lib\\site-packages\\torch\\nn\\modules\\module.py:1762: FutureWarning: `encoder_attention_mask` is deprecated and will be removed in version 4.55.0 for `BertSdpaSelfAttention.forward`.\n",
      "  return forward_call(*args, **kwargs)\n"
     ]
    },
    {
     "name": "stdout",
     "output_type": "stream",
     "text": [
      "\n",
      "REPORTE DE CLASIFICACIÓN:\n",
      "              precision    recall  f1-score   support\n",
      "\n",
      "       haiku       0.86      0.30      0.44        20\n",
      "      sonnet       0.00      0.00      0.00        20\n",
      "       otros       0.35      0.90      0.51        20\n",
      "\n",
      "    accuracy                           0.40        60\n",
      "   macro avg       0.40      0.40      0.32        60\n",
      "weighted avg       0.40      0.40      0.32        60\n",
      "\n"
     ]
    },
    {
     "data": {
      "image/png": "[encoded data removed]",
      "text/plain": [
       "<Figure size 600x500 with 2 Axes>"
      ]
     },
     "metadata": {},
     "output_type": "display_data"
    },
    {
     "name": "stdout",
     "output_type": "stream",
     "text": [
      "============================================================\n",
      "Evaluando: modelo_poemasv2\n",
      "============================================================\n"
     ]
    },
    {
     "name": "stderr",
     "output_type": "stream",
     "text": [
      "c:\\Users\\scout\\anaconda3\\envs\\nlp-env\\Lib\\site-packages\\torch\\nn\\modules\\module.py:1762: FutureWarning: `encoder_attention_mask` is deprecated and will be removed in version 4.55.0 for `BertSdpaSelfAttention.forward`.\n",
      "  return forward_call(*args, **kwargs)\n"
     ]
    },
    {
     "name": "stdout",
     "output_type": "stream",
     "text": [
      "\n",
      "REPORTE DE CLASIFICACIÓN:\n",
      "              precision    recall  f1-score   support\n",
      "\n",
      "       haiku       0.62      0.25      0.36        20\n",
      "      sonnet       0.00      0.00      0.00        20\n",
      "       otros       0.36      0.90      0.51        20\n",
      "\n",
      "    accuracy                           0.38        60\n",
      "   macro avg       0.33      0.38      0.29        60\n",
      "weighted avg       0.33      0.38      0.29        60\n",
      "\n"
     ]
    },
    {
     "data": {
      "image/png": "[encoded data removed]",
      "text/plain": [
       "<Figure size 600x500 with 2 Axes>"
      ]
     },
     "metadata": {},
     "output_type": "display_data"
    },
    {
     "name": "stdout",
     "output_type": "stream",
     "text": [
      "============================================================\n",
      "Evaluando: modelo_balanceado\n",
      "============================================================\n"
     ]
    },
    {
     "name": "stderr",
     "output_type": "stream",
     "text": [
      "c:\\Users\\scout\\anaconda3\\envs\\nlp-env\\Lib\\site-packages\\torch\\nn\\modules\\module.py:1762: FutureWarning: `encoder_attention_mask` is deprecated and will be removed in version 4.55.0 for `BertSdpaSelfAttention.forward`.\n",
      "  return forward_call(*args, **kwargs)\n"
     ]
    },
    {
     "name": "stdout",
     "output_type": "stream",
     "text": [
      "\n",
      "REPORTE DE CLASIFICACIÓN:\n",
      "              precision    recall  f1-score   support\n",
      "\n",
      "       haiku       0.44      0.20      0.28        20\n",
      "      sonnet       0.29      0.75      0.42        20\n",
      "       otros       0.00      0.00      0.00        20\n",
      "\n",
      "    accuracy                           0.32        60\n",
      "   macro avg       0.25      0.32      0.23        60\n",
      "weighted avg       0.25      0.32      0.23        60\n",
      "\n"
     ]
    },
    {
     "name": "stderr",
     "output_type": "stream",
     "text": [
      "c:\\Users\\scout\\anaconda3\\envs\\nlp-env\\Lib\\site-packages\\sklearn\\metrics\\_classification.py:1706: UndefinedMetricWarning: Precision is ill-defined and being set to 0.0 in labels with no predicted samples. Use `zero_division` parameter to control this behavior.\n",
      "  _warn_prf(average, modifier, f\"{metric.capitalize()} is\", result.shape[0])\n",
      "c:\\Users\\scout\\anaconda3\\envs\\nlp-env\\Lib\\site-packages\\sklearn\\metrics\\_classification.py:1706: UndefinedMetricWarning: Precision is ill-defined and being set to 0.0 in labels with no predicted samples. Use `zero_division` parameter to control this behavior.\n",
      "  _warn_prf(average, modifier, f\"{metric.capitalize()} is\", result.shape[0])\n",
      "c:\\Users\\scout\\anaconda3\\envs\\nlp-env\\Lib\\site-packages\\sklearn\\metrics\\_classification.py:1706: UndefinedMetricWarning: Precision is ill-defined and being set to 0.0 in labels with no predicted samples. Use `zero_division` parameter to control this behavior.\n",
      "  _warn_prf(average, modifier, f\"{metric.capitalize()} is\", result.shape[0])\n"
     ]
    },
    {
     "data": {
      "image/png": "[encoded data removed]",
      "text/plain": [
       "<Figure size 600x500 with 2 Axes>"
      ]
     },
     "metadata": {},
     "output_type": "display_data"
    },
    {
     "name": "stdout",
     "output_type": "stream",
     "text": [
      "============================================================\n",
      "Evaluando: modelo_balanceado2\n",
      "============================================================\n"
     ]
    },
    {
     "name": "stderr",
     "output_type": "stream",
     "text": [
      "c:\\Users\\scout\\anaconda3\\envs\\nlp-env\\Lib\\site-packages\\torch\\nn\\modules\\module.py:1762: FutureWarning: `encoder_attention_mask` is deprecated and will be removed in version 4.55.0 for `BertSdpaSelfAttention.forward`.\n",
      "  return forward_call(*args, **kwargs)\n"
     ]
    },
    {
     "name": "stdout",
     "output_type": "stream",
     "text": [
      "\n",
      "REPORTE DE CLASIFICACIÓN:\n",
      "              precision    recall  f1-score   support\n",
      "\n",
      "       haiku       0.38      0.15      0.21        20\n",
      "      sonnet       0.29      0.75      0.42        20\n",
      "       otros       0.00      0.00      0.00        20\n",
      "\n",
      "    accuracy                           0.30        60\n",
      "   macro avg       0.22      0.30      0.21        60\n",
      "weighted avg       0.22      0.30      0.21        60\n",
      "\n"
     ]
    },
    {
     "name": "stderr",
     "output_type": "stream",
     "text": [
      "c:\\Users\\scout\\anaconda3\\envs\\nlp-env\\Lib\\site-packages\\sklearn\\metrics\\_classification.py:1706: UndefinedMetricWarning: Precision is ill-defined and being set to 0.0 in labels with no predicted samples. Use `zero_division` parameter to control this behavior.\n",
      "  _warn_prf(average, modifier, f\"{metric.capitalize()} is\", result.shape[0])\n",
      "c:\\Users\\scout\\anaconda3\\envs\\nlp-env\\Lib\\site-packages\\sklearn\\metrics\\_classification.py:1706: UndefinedMetricWarning: Precision is ill-defined and being set to 0.0 in labels with no predicted samples. Use `zero_division` parameter to control this behavior.\n",
      "  _warn_prf(average, modifier, f\"{metric.capitalize()} is\", result.shape[0])\n",
      "c:\\Users\\scout\\anaconda3\\envs\\nlp-env\\Lib\\site-packages\\sklearn\\metrics\\_classification.py:1706: UndefinedMetricWarning: Precision is ill-defined and being set to 0.0 in labels with no predicted samples. Use `zero_division` parameter to control this behavior.\n",
      "  _warn_prf(average, modifier, f\"{metric.capitalize()} is\", result.shape[0])\n"
     ]
    },
    {
     "data": {
      "image/png": "[encoded data removed]",
      "text/plain": [
       "<Figure size 600x500 with 2 Axes>"
      ]
     },
     "metadata": {},
     "output_type": "display_data"
    },
    {
     "name": "stdout",
     "output_type": "stream",
     "text": [
      "============================================================\n",
      "Evaluando: modelo_balanceado3\n",
      "============================================================\n"
     ]
    },
    {
     "name": "stderr",
     "output_type": "stream",
     "text": [
      "c:\\Users\\scout\\anaconda3\\envs\\nlp-env\\Lib\\site-packages\\torch\\nn\\modules\\module.py:1762: FutureWarning: `encoder_attention_mask` is deprecated and will be removed in version 4.55.0 for `BertSdpaSelfAttention.forward`.\n",
      "  return forward_call(*args, **kwargs)\n"
     ]
    },
    {
     "name": "stdout",
     "output_type": "stream",
     "text": [
      "\n",
      "REPORTE DE CLASIFICACIÓN:\n",
      "              precision    recall  f1-score   support\n",
      "\n",
      "       haiku       0.65      1.00      0.78        20\n",
      "      sonnet       0.00      0.00      0.00        20\n",
      "       otros       0.64      0.80      0.71        20\n",
      "\n",
      "    accuracy                           0.60        60\n",
      "   macro avg       0.43      0.60      0.50        60\n",
      "weighted avg       0.43      0.60      0.50        60\n",
      "\n"
     ]
    },
    {
     "data": {
      "image/png": "[encoded data removed]",
      "text/plain": [
       "<Figure size 600x500 with 2 Axes>"
      ]
     },
     "metadata": {},
     "output_type": "display_data"
    },
    {
     "name": "stdout",
     "output_type": "stream",
     "text": [
      "============================================================\n",
      "Evaluando: modelo_balanceado4\n",
      "============================================================\n"
     ]
    },
    {
     "name": "stderr",
     "output_type": "stream",
     "text": [
      "c:\\Users\\scout\\anaconda3\\envs\\nlp-env\\Lib\\site-packages\\torch\\nn\\modules\\module.py:1762: FutureWarning: `encoder_attention_mask` is deprecated and will be removed in version 4.55.0 for `BertSdpaSelfAttention.forward`.\n",
      "  return forward_call(*args, **kwargs)\n"
     ]
    },
    {
     "name": "stdout",
     "output_type": "stream",
     "text": [
      "\n",
      "REPORTE DE CLASIFICACIÓN:\n",
      "              precision    recall  f1-score   support\n",
      "\n",
      "       haiku       0.59      0.95      0.73        20\n",
      "      sonnet       0.00      0.00      0.00        20\n",
      "       otros       0.70      0.80      0.74        20\n",
      "\n",
      "    accuracy                           0.58        60\n",
      "   macro avg       0.43      0.58      0.49        60\n",
      "weighted avg       0.43      0.58      0.49        60\n",
      "\n"
     ]
    },
    {
     "data": {
      "image/png": "[encoded data removed]",
      "text/plain": [
       "<Figure size 600x500 with 2 Axes>"
      ]
     },
     "metadata": {},
     "output_type": "display_data"
    }
   ],
   "source": [
    "import os\n",
    "import torch\n",
    "import torch.nn.functional as F\n",
    "from transformers import BertTokenizer, BertForSequenceClassification\n",
    "from sklearn.metrics import classification_report, confusion_matrix\n",
    "import seaborn as sns\n",
    "import matplotlib.pyplot as plt\n",
    "import pandas as pd\n",
    "from pathlib import Path\n",
    "\n",
    "# Carpetas con modelos\n",
    "modelos = [\n",
    "    \"modelo_poemas\",\n",
    "    \"modelo_poemasv2\",\n",
    "    \"modelo_balanceado\",\n",
    "    \"modelo_balanceado2\",\n",
    "    \"modelo_balanceado3\",\n",
    "    \"modelo_balanceado4\"\n",
    "]\n",
    "\n",
    "# Clases\n",
    "labels = [\"haiku\", \"sonnet\", \"otros\"]\n",
    "\n",
    "# Archivos de prueba\n",
    "carpeta_poemas = \"./Poemasvar\"\n",
    "archivos_txt = sorted(Path(carpeta_poemas).glob(\"*.txt\"))\n",
    "\n",
    "# Cargar textos\n",
    "textos = []\n",
    "nombres = []\n",
    "for archivo in archivos_txt:\n",
    "    with open(archivo, \"r\", encoding=\"utf-8\") as f:\n",
    "        textos.append(f.read().strip())\n",
    "        nombres.append(archivo.name)\n",
    "\n",
    "# Etiquetas reales según nombre del archivo\n",
    "y_true = []\n",
    "for nombre in nombres:\n",
    "    if \"haiku\" in nombre.lower():\n",
    "        y_true.append(\"haiku\")\n",
    "    elif \"sonnet\" in nombre.lower():\n",
    "        y_true.append(\"sonnet\")\n",
    "    else:\n",
    "        y_true.append(\"otros\")\n",
    "\n",
    "# Dispositivo\n",
    "device = torch.device(\"cuda\" if torch.cuda.is_available() else \"cpu\")\n",
    "\n",
    "# Tokenizer base\n",
    "tokenizer = BertTokenizer.from_pretrained(\"bert-base-uncased\")\n",
    "\n",
    "# Evaluar cada modelo\n",
    "for modelo_path in modelos:\n",
    "    print(\"=\"*60)\n",
    "    print(f\"Evaluando: {modelo_path}\")\n",
    "    print(\"=\"*60)\n",
    "\n",
    "    # Cargar modelo\n",
    "    model = BertForSequenceClassification.from_pretrained(modelo_path)\n",
    "    model.to(device)\n",
    "    model.eval()\n",
    "\n",
    "    # Predicciones\n",
    "    y_pred = []\n",
    "    for texto in textos:\n",
    "        inputs = tokenizer(texto, return_tensors=\"pt\", truncation=True, padding=\"max_length\", max_length=128)\n",
    "        inputs = {k: v.to(device) for k, v in inputs.items()}\n",
    "        with torch.no_grad():\n",
    "            outputs = model(**inputs)\n",
    "            logits = outputs.logits\n",
    "            pred_id = torch.argmax(logits, dim=-1).item()\n",
    "            y_pred.append(labels[pred_id])\n",
    "\n",
    "    # Reporte\n",
    "    print(\"\\nREPORTE DE CLASIFICACIÓN:\")\n",
    "    print(classification_report(y_true, y_pred, target_names=labels))\n",
    "\n",
    "    # Matriz de confusión\n",
    "    cm = confusion_matrix(y_true, y_pred, labels=labels)\n",
    "    plt.figure(figsize=(6, 5))\n",
    "    sns.heatmap(cm, annot=True, fmt=\"d\", cmap=\"Blues\", xticklabels=labels, yticklabels=labels)\n",
    "    plt.xlabel(\"Predicción\")\n",
    "    plt.ylabel(\"Valor real\")\n",
    "    plt.title(f\"Matriz de Confusión - {modelo_path}\")\n",
    "    plt.tight_layout()\n",
    "    plt.show()\n"
   ]
  },
  {
   "cell_type": "code",
   "execution_count": 47,
   "id": "3f660f9f",
   "metadata": {},
   "outputs": [
    {
     "name": "stderr",
     "output_type": "stream",
     "text": [
      "c:\\Users\\scout\\anaconda3\\envs\\nlp-env\\Lib\\site-packages\\torch\\nn\\modules\\module.py:1762: FutureWarning: `encoder_attention_mask` is deprecated and will be removed in version 4.55.0 for `BertSdpaSelfAttention.forward`.\n",
      "  return forward_call(*args, **kwargs)\n"
     ]
    },
    {
     "name": "stdout",
     "output_type": "stream",
     "text": [
      "               Modelo  Accuracy  F1-score macro\n",
      "0       modelo_poemas  0.450000        0.387158\n",
      "1     modelo_poemasv2  0.400000        0.341558\n",
      "2   modelo_balanceado  0.400000        0.279747\n",
      "3  modelo_balanceado2  0.383333        0.256614\n",
      "4  modelo_balanceado3  0.550000        0.505882\n",
      "5  modelo_balanceado4  0.500000        0.458784\n"
     ]
    },
    {
     "data": {
      "image/png": "[encoded data removed]",
      "text/plain": [
       "<Figure size 1000x500 with 1 Axes>"
      ]
     },
     "metadata": {},
     "output_type": "display_data"
    }
   ],
   "source": [
    "import os\n",
    "import torch\n",
    "import torch.nn.functional as F\n",
    "from transformers import BertTokenizer, BertForSequenceClassification\n",
    "from pathlib import Path\n",
    "from sklearn.metrics import accuracy_score, f1_score\n",
    "import pandas as pd\n",
    "import matplotlib.pyplot as plt\n",
    "\n",
    "# === CONFIGURACIÓN ===\n",
    "\n",
    "# Dispositivo\n",
    "device = torch.device(\"cuda\" if torch.cuda.is_available() else \"cpu\")\n",
    "\n",
    "# Labels en el mismo orden del entrenamiento\n",
    "labels = [\"haiku\", \"sonnet\", \"otros\"]\n",
    "\n",
    "# Etiquetas verdaderas (20 de cada clase)\n",
    "y_true = [\"haiku\"] * 20 + [\"sonnet\"] * 20 + [\"otros\"] * 20\n",
    "\n",
    "# Modelos a comparar\n",
    "modelos = [\n",
    "    \"modelo_poemas\",\n",
    "    \"modelo_poemasv2\",\n",
    "    \"modelo_balanceado\",\n",
    "    \"modelo_balanceado2\",\n",
    "    \"modelo_balanceado3\",\n",
    "    \"modelo_balanceado4\"\n",
    "]\n",
    "\n",
    "# Ruta de los poemas de prueba (60 archivos)\n",
    "carpeta_poemas = \"./Poemasvar\"\n",
    "archivos = sorted(Path(carpeta_poemas).glob(\"*.txt\"))  # ordenado\n",
    "\n",
    "# Tokenizador\n",
    "tokenizer = BertTokenizer.from_pretrained(\"bert-base-uncased\")\n",
    "\n",
    "# === EVALUACIÓN DE MODELOS ===\n",
    "\n",
    "y_pred_dict = {}\n",
    "\n",
    "for modelo_path in modelos:\n",
    "    model = BertForSequenceClassification.from_pretrained(modelo_path)\n",
    "    model.to(device)\n",
    "    model.eval()\n",
    "\n",
    "    y_pred = []\n",
    "\n",
    "    for archivo in archivos:\n",
    "        with open(archivo, \"r\", encoding=\"utf-8\") as f:\n",
    "            texto = f.read().strip()\n",
    "\n",
    "        inputs = tokenizer(texto, return_tensors=\"pt\", truncation=True, padding=\"max_length\", max_length=128)\n",
    "        inputs = {k: v.to(device) for k, v in inputs.items()}\n",
    "\n",
    "        with torch.no_grad():\n",
    "            outputs = model(**inputs)\n",
    "            logits = outputs.logits\n",
    "            probs = F.softmax(logits, dim=-1)\n",
    "            pred = torch.argmax(probs, dim=1).item()\n",
    "            y_pred.append(labels[pred])\n",
    "\n",
    "    y_pred_dict[modelo_path] = y_pred\n",
    "\n",
    "# === COMPARACIÓN DE RESULTADOS ===\n",
    "\n",
    "resultados = []\n",
    "\n",
    "for modelo in modelos:\n",
    "    y_pred = y_pred_dict[modelo]\n",
    "    acc = accuracy_score(y_true, y_pred)\n",
    "    f1 = f1_score(y_true, y_pred, average='macro')\n",
    "    resultados.append({\n",
    "        \"Modelo\": modelo,\n",
    "        \"Accuracy\": acc,\n",
    "        \"F1-score macro\": f1\n",
    "    })\n",
    "\n",
    "# Crear DataFrame\n",
    "df_resultados = pd.DataFrame(resultados)\n",
    "print(df_resultados)\n",
    "\n",
    "# === GRÁFICO COMPARATIVO ===\n",
    "\n",
    "ax = df_resultados.set_index(\"Modelo\")[[\"Accuracy\", \"F1-score macro\"]].plot(\n",
    "    kind=\"bar\", figsize=(10, 5), ylim=(0, 1), rot=30\n",
    ")\n",
    "plt.title(\"Comparación de modelos BERT\")\n",
    "plt.ylabel(\"Puntaje\")\n",
    "plt.grid(axis='y', linestyle='--', alpha=0.6)\n",
    "\n",
    "# Mostrar valores encima de las barras\n",
    "for container in ax.containers:\n",
    "    ax.bar_label(container, fmt='%.2f', label_type='edge', fontsize=9)\n",
    "\n",
    "plt.tight_layout()\n",
    "plt.show()\n"
   ]
  }
 ],
 "metadata": {
  "kernelspec": {
   "display_name": "nlp-env",
   "language": "python",
   "name": "python3"
  },
  "language_info": {
   "codemirror_mode": {
    "name": "ipython",
    "version": 3
   },
   "file_extension": ".py",
   "mimetype": "text/x-python",
   "name": "python",
   "nbconvert_exporter": "python",
   "pygments_lexer": "ipython3",
   "version": "3.11.13"
  }
 },
 "nbformat": 4,
 "nbformat_minor": 5
}
