{
 "cells": [
  {
   "cell_type": "code",
   "execution_count": 1,
   "id": "41fd639c",
   "metadata": {},
   "outputs": [],
   "source": [
    "import pandas as pd\n",
    "import sys      "
   ]
  },
  {
   "cell_type": "code",
   "execution_count": 7,
   "id": "85c4d79a",
   "metadata": {},
   "outputs": [
    {
     "name": "stdout",
     "output_type": "stream",
     "text": [
      "Cantidad de archivos en 'forms': 135\n",
      "Cantidad de archivos en 'topics': 144\n"
     ]
    }
   ],
   "source": [
    "import os\n",
    "\n",
    "# Ruta a la carpeta 'forms'\n",
    "ruta_forms = \"archive/forms\"\n",
    "ruta_topics = \"archive/topics\"\n",
    "\n",
    "archivos1 = os.listdir(ruta_forms)\n",
    "archivos2 = os.listdir(ruta_topics)\n",
    "\n",
    "cantidad1 = len(archivos1)\n",
    "cantidad2 = len(archivos2)\n",
    "\n",
    "\n",
    "print(f\"Cantidad de archivos en 'forms': {cantidad1}\")\n",
    "print(f\"Cantidad de archivos en 'topics': {cantidad2}\")\n",
    "\n",
    "\n"
   ]
  },
  {
   "cell_type": "markdown",
   "id": "bdec902a",
   "metadata": {},
   "source": [
    "Clasificacion automatica de poemas segun su forma poetica(usando la carpeta forms)"
   ]
  }
 ],
 "metadata": {
  "kernelspec": {
   "display_name": "nlp-env",
   "language": "python",
   "name": "python3"
  },
  "language_info": {
   "codemirror_mode": {
    "name": "ipython",
    "version": 3
   },
   "file_extension": ".py",
   "mimetype": "text/x-python",
   "name": "python",
   "nbconvert_exporter": "python",
   "pygments_lexer": "ipython3",
   "version": "3.11.13"
  }
 },
 "nbformat": 4,
 "nbformat_minor": 5
}
